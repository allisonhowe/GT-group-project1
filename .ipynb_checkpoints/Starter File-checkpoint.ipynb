{
 "cells": [
  {
   "cell_type": "code",
   "execution_count": 11,
   "metadata": {},
   "outputs": [],
   "source": [
    "# Dependencies and Setup\n",
    "import matplotlib.pyplot as plt\n",
    "import pandas as pd\n",
    "import scipy.stats as st\n",
    "import numpy as np\n",
    "\n",
    "# Study data files\n",
    "FEMA_data = \"FEMA_data.csv\"\n",
    "US_Presidents = \"USpresidents.csv\"\n",
    "\n",
    "FEMA_data_df = pd.read_csv(FEMA_data)\n",
    "\n",
    "# Pull out year in Start Date in FEMA data \n",
    "FEMA_df_start_date = pd.to_datetime(FEMA_data_df['Start Date'])\n",
    "FEMA_df_end_date = pd.to_datetime(FEMA_data_df['End Date'])\n",
    "\n",
    "disaster_length = FEMA_df_end_date - FEMA_df_start_date"
   ]
  },
  {
   "cell_type": "code",
   "execution_count": 12,
   "metadata": {},
   "outputs": [
    {
     "data": {
      "text/plain": [
       "0       0 days\n",
       "1       0 days\n",
       "2       0 days\n",
       "3       0 days\n",
       "4       0 days\n",
       "         ...  \n",
       "46180   9 days\n",
       "46181   9 days\n",
       "46182   9 days\n",
       "46183   9 days\n",
       "46184   9 days\n",
       "Length: 46185, dtype: timedelta64[ns]"
      ]
     },
     "execution_count": 12,
     "metadata": {},
     "output_type": "execute_result"
    }
   ],
   "source": [
    "disaster_length"
   ]
  },
  {
   "cell_type": "code",
   "execution_count": null,
   "metadata": {},
   "outputs": [],
   "source": []
  }
 ],
 "metadata": {
  "kernelspec": {
   "display_name": "Python 3",
   "language": "python",
   "name": "python3"
  },
  "language_info": {
   "codemirror_mode": {
    "name": "ipython",
    "version": 3
   },
   "file_extension": ".py",
   "mimetype": "text/x-python",
   "name": "python",
   "nbconvert_exporter": "python",
   "pygments_lexer": "ipython3",
   "version": "3.8.3"
  }
 },
 "nbformat": 4,
 "nbformat_minor": 4
}
