{
 "cells": [
  {
   "cell_type": "code",
   "execution_count": 1,
   "metadata": {},
   "outputs": [],
   "source": [
    "# Dependencies and Setup\n",
    "import matplotlib.pyplot as plt\n",
    "import pandas as pd\n",
    "import scipy.stats as st\n",
    "import numpy as np\n",
    "import os\n",
    "import csv\n",
    "\n",
    "# Study data files\n",
    "FEMA_data = \"FEMA_data.csv\"\n",
    "US_Presidents = \"USpresidents.csv\"\n",
    "\n",
    "FEMA_df = pd.read_csv(FEMA_data)\n",
    "Pres_df = pd.read_csv(US_Presidents)\n"
   ]
  },
  {
   "cell_type": "code",
   "execution_count": 2,
   "metadata": {},
   "outputs": [],
   "source": [
    "#write missing president data to president dataframe\n",
    "with open(US_Presidents, \"a\") as myfile:\n",
    "    writer=csv.writer(myfile, delimiter=\",\")\n",
    "    myfile.write('\\n')\n",
    "    writer.writerow(['2014', 'Barack Obama', 'Democrat'])\n",
    "    writer.writerow(['2015', 'Barack Obama', 'Democrat'])\n",
    "    writer.writerow(['2016', 'Barack Obama', 'Democrat'])\n",
    "    writer.writerow(['2017', 'Donald Trump', 'Republican'])"
   ]
  },
  {
   "cell_type": "code",
   "execution_count": null,
   "metadata": {},
   "outputs": [],
   "source": [
    "# Pull out year in Start Date in FEMA data \n",
    "FEMA_df_start_date = pd.to_datetime(FEMA_df['Start Date'])\n",
    "FEMA_df_end_date = pd.to_datetime(FEMA_df['End Date'])\n",
    "\n",
    "disaster_length = FEMA_df_end_date - FEMA_df_start_date"
   ]
  },
  {
   "cell_type": "code",
   "execution_count": null,
   "metadata": {},
   "outputs": [],
   "source": [
    "disaster_length"
   ]
  },
  {
   "cell_type": "code",
   "execution_count": null,
   "metadata": {},
   "outputs": [],
   "source": [
    "FEMA_df['Year'] = pd.DatetimeIndex(FEMA_df['Start Date']).year\n",
    "FEMA_df['End Year'] = pd.DatetimeIndex(FEMA_df['End Date']).year\n",
    "Pres_df = Pres_df.rename(columns={\"Years (after inauguration)\":\"Year\"})"
   ]
  },
  {
   "cell_type": "code",
   "execution_count": null,
   "metadata": {},
   "outputs": [],
   "source": [
    "Pres_df"
   ]
  },
  {
   "cell_type": "code",
   "execution_count": null,
   "metadata": {},
   "outputs": [],
   "source": [
    "merged_df = pd.merge(FEMA_df, Pres_df, on=\"Year\", how=\"left\")"
   ]
  },
  {
   "cell_type": "code",
   "execution_count": null,
   "metadata": {},
   "outputs": [],
   "source": [
    "merged_df"
   ]
  },
  {
   "cell_type": "code",
   "execution_count": null,
   "metadata": {},
   "outputs": [],
   "source": []
  },
  {
   "cell_type": "code",
   "execution_count": null,
   "metadata": {},
   "outputs": [],
   "source": []
  }
 ],
 "metadata": {
  "kernelspec": {
   "display_name": "Python 3",
   "language": "python",
   "name": "python3"
  },
  "language_info": {
   "codemirror_mode": {
    "name": "ipython",
    "version": 3
   },
   "file_extension": ".py",
   "mimetype": "text/x-python",
   "name": "python",
   "nbconvert_exporter": "python",
   "pygments_lexer": "ipython3",
   "version": "3.8.3"
  }
 },
 "nbformat": 4,
 "nbformat_minor": 4
}
